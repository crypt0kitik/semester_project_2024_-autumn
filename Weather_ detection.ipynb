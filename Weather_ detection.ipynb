{
 "cells": [
  {
   "cell_type": "markdown",
   "id": "fd5d1edb-2a88-4c5e-8ce4-5a01aa084bda",
   "metadata": {},
   "source": [
    "Data format is received form different stations that is why data in different format\n",
    "78 files were saved from station infromation and based on this new data was created\n",
    "Each station has around 100 sensors\n",
    "\n",
    "Every station has a different format of data\n",
    "\n",
    "Data is received from open weather API\n",
    "Many missing values due to combination of all stations\n",
    "\n",
    "https://www.digitraffic.fi/en/road-traffic/#data-for-all-stations-and-for-single-station-1 - Road traffic. Open data from Finnish roads."
   ]
  },
  {
   "cell_type": "code",
   "execution_count": 2,
   "id": "785f646e-f57e-4206-946b-4444674b8a0c",
   "metadata": {},
   "outputs": [],
   "source": [
    "# pip install detail"
   ]
  },
  {
   "cell_type": "code",
   "execution_count": null,
   "id": "274ea217-1ebc-477b-bab5-9eee6f8831f5",
   "metadata": {},
   "outputs": [],
   "source": [
    "import panda as pd\n",
    "imoprt dtale\n"
   ]
  }
 ],
 "metadata": {
  "kernelspec": {
   "display_name": "Python 3 (ipykernel)",
   "language": "python",
   "name": "python3"
  },
  "language_info": {
   "codemirror_mode": {
    "name": "ipython",
    "version": 3
   },
   "file_extension": ".py",
   "mimetype": "text/x-python",
   "name": "python",
   "nbconvert_exporter": "python",
   "pygments_lexer": "ipython3",
   "version": "3.10.9"
  }
 },
 "nbformat": 4,
 "nbformat_minor": 5
}
