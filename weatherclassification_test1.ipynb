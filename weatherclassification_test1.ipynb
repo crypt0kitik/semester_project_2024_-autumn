{
 "cells": [
  {
   "cell_type": "markdown",
   "metadata": {},
   "source": [
    "<b>Weather control model - RandomForest, test</b>"
   ]
  },
  {
   "cell_type": "code",
   "execution_count": 93,
   "metadata": {},
   "outputs": [],
   "source": [
    "import pandas as pd\n",
    "import numpy as np\n",
    "import matplotlib.pyplot as plt\n",
    "import seaborn as sns\n",
    "\n",
    "from sklearn.model_selection import train_test_split\n",
    "from sklearn import metrics\n",
    "from sklearn.pipeline import make_pipeline\n",
    "from sklearn.ensemble import RandomForestClassifier\n",
    "from sklearn.preprocessing import MinMaxScaler, StandardScaler\n",
    "from sklearn.metrics import classification_report, confusion_matrix, accuracy_score, roc_auc_score\n",
    "from sklearn.feature_extraction.text import TfidfVectorizer\n",
    "from sklearn.tree import DecisionTreeClassifier\n",
    "from sklearn.svm import LinearSVC\n",
    "from sklearn.linear_model import PassiveAggressiveClassifier, LogisticRegression\n",
    "from sklearn.neighbors import KNeighborsClassifier\n",
    "from sklearn import metrics, svm\n",
    "from sklearn.preprocessing import LabelEncoder"
   ]
  },
  {
   "cell_type": "code",
   "execution_count": 94,
   "metadata": {},
   "outputs": [],
   "source": [
    "# load the data\n",
    "df = pd.read_csv(\"digitraffic_weather_balanced.csv\")"
   ]
  },
  {
   "cell_type": "code",
   "execution_count": 95,
   "metadata": {},
   "outputs": [
    {
     "data": {
      "text/html": [
       "<div>\n",
       "<style scoped>\n",
       "    .dataframe tbody tr th:only-of-type {\n",
       "        vertical-align: middle;\n",
       "    }\n",
       "\n",
       "    .dataframe tbody tr th {\n",
       "        vertical-align: top;\n",
       "    }\n",
       "\n",
       "    .dataframe thead th {\n",
       "        text-align: right;\n",
       "    }\n",
       "</style>\n",
       "<table border=\"1\" class=\"dataframe\">\n",
       "  <thead>\n",
       "    <tr style=\"text-align: right;\">\n",
       "      <th></th>\n",
       "      <th>dew_point</th>\n",
       "      <th>avg_wind</th>\n",
       "      <th>humidity</th>\n",
       "      <th>rain</th>\n",
       "      <th>rain_sum</th>\n",
       "      <th>snow_depth</th>\n",
       "      <th>rain_amount</th>\n",
       "      <th>snow_amount</th>\n",
       "      <th>ice_measure</th>\n",
       "      <th>friction</th>\n",
       "      <th>ice_frequency</th>\n",
       "      <th>mean_temperature</th>\n",
       "      <th>condition</th>\n",
       "    </tr>\n",
       "  </thead>\n",
       "  <tbody>\n",
       "    <tr>\n",
       "      <th>0</th>\n",
       "      <td>-12.700000</td>\n",
       "      <td>5.500000</td>\n",
       "      <td>47.000000</td>\n",
       "      <td>0.000000</td>\n",
       "      <td>0.000000</td>\n",
       "      <td>0.000000</td>\n",
       "      <td>0.00</td>\n",
       "      <td>0.000000</td>\n",
       "      <td>0.000000</td>\n",
       "      <td>0.820000</td>\n",
       "      <td>487.000000</td>\n",
       "      <td>7.000000</td>\n",
       "      <td>Normal</td>\n",
       "    </tr>\n",
       "    <tr>\n",
       "      <th>1</th>\n",
       "      <td>-8.403115</td>\n",
       "      <td>2.460407</td>\n",
       "      <td>59.626775</td>\n",
       "      <td>3.017363</td>\n",
       "      <td>0.000000</td>\n",
       "      <td>6.094455</td>\n",
       "      <td>0.00</td>\n",
       "      <td>0.316054</td>\n",
       "      <td>0.353955</td>\n",
       "      <td>0.569816</td>\n",
       "      <td>648.000000</td>\n",
       "      <td>-34.593139</td>\n",
       "      <td>Ice</td>\n",
       "    </tr>\n",
       "    <tr>\n",
       "      <th>2</th>\n",
       "      <td>-3.200000</td>\n",
       "      <td>2.100000</td>\n",
       "      <td>96.000000</td>\n",
       "      <td>4.000000</td>\n",
       "      <td>2.100000</td>\n",
       "      <td>0.000000</td>\n",
       "      <td>0.00</td>\n",
       "      <td>0.340000</td>\n",
       "      <td>0.110000</td>\n",
       "      <td>0.380000</td>\n",
       "      <td>112.000000</td>\n",
       "      <td>7.100000</td>\n",
       "      <td>Snow</td>\n",
       "    </tr>\n",
       "    <tr>\n",
       "      <th>3</th>\n",
       "      <td>0.400000</td>\n",
       "      <td>0.900000</td>\n",
       "      <td>98.000000</td>\n",
       "      <td>0.000000</td>\n",
       "      <td>0.700000</td>\n",
       "      <td>0.000000</td>\n",
       "      <td>0.02</td>\n",
       "      <td>0.000000</td>\n",
       "      <td>0.000000</td>\n",
       "      <td>0.820000</td>\n",
       "      <td>465.000000</td>\n",
       "      <td>-0.021505</td>\n",
       "      <td>Rain</td>\n",
       "    </tr>\n",
       "    <tr>\n",
       "      <th>4</th>\n",
       "      <td>-5.867660</td>\n",
       "      <td>1.439352</td>\n",
       "      <td>64.113793</td>\n",
       "      <td>0.000000</td>\n",
       "      <td>1.693064</td>\n",
       "      <td>0.000000</td>\n",
       "      <td>0.00</td>\n",
       "      <td>0.155041</td>\n",
       "      <td>0.509244</td>\n",
       "      <td>0.619030</td>\n",
       "      <td>62.130165</td>\n",
       "      <td>-16.647309</td>\n",
       "      <td>Ice</td>\n",
       "    </tr>\n",
       "  </tbody>\n",
       "</table>\n",
       "</div>"
      ],
      "text/plain": [
       "   dew_point  avg_wind   humidity      rain  rain_sum  snow_depth  \\\n",
       "0 -12.700000  5.500000  47.000000  0.000000  0.000000    0.000000   \n",
       "1  -8.403115  2.460407  59.626775  3.017363  0.000000    6.094455   \n",
       "2  -3.200000  2.100000  96.000000  4.000000  2.100000    0.000000   \n",
       "3   0.400000  0.900000  98.000000  0.000000  0.700000    0.000000   \n",
       "4  -5.867660  1.439352  64.113793  0.000000  1.693064    0.000000   \n",
       "\n",
       "   rain_amount  snow_amount  ice_measure  friction  ice_frequency  \\\n",
       "0         0.00     0.000000     0.000000  0.820000     487.000000   \n",
       "1         0.00     0.316054     0.353955  0.569816     648.000000   \n",
       "2         0.00     0.340000     0.110000  0.380000     112.000000   \n",
       "3         0.02     0.000000     0.000000  0.820000     465.000000   \n",
       "4         0.00     0.155041     0.509244  0.619030      62.130165   \n",
       "\n",
       "   mean_temperature condition  \n",
       "0          7.000000    Normal  \n",
       "1        -34.593139       Ice  \n",
       "2          7.100000      Snow  \n",
       "3         -0.021505      Rain  \n",
       "4        -16.647309       Ice  "
      ]
     },
     "execution_count": 95,
     "metadata": {},
     "output_type": "execute_result"
    }
   ],
   "source": [
    "df.head()"
   ]
  },
  {
   "cell_type": "markdown",
   "metadata": {},
   "source": [
    "<b>Convert everything to numeric format, and drop useless columns</b>"
   ]
  },
  {
   "cell_type": "code",
   "execution_count": 96,
   "metadata": {},
   "outputs": [
    {
     "data": {
      "text/html": [
       "<div>\n",
       "<style scoped>\n",
       "    .dataframe tbody tr th:only-of-type {\n",
       "        vertical-align: middle;\n",
       "    }\n",
       "\n",
       "    .dataframe tbody tr th {\n",
       "        vertical-align: top;\n",
       "    }\n",
       "\n",
       "    .dataframe thead th {\n",
       "        text-align: right;\n",
       "    }\n",
       "</style>\n",
       "<table border=\"1\" class=\"dataframe\">\n",
       "  <thead>\n",
       "    <tr style=\"text-align: right;\">\n",
       "      <th></th>\n",
       "      <th>dew_point</th>\n",
       "      <th>avg_wind</th>\n",
       "      <th>humidity</th>\n",
       "      <th>rain</th>\n",
       "      <th>rain_sum</th>\n",
       "      <th>snow_depth</th>\n",
       "      <th>rain_amount</th>\n",
       "      <th>snow_amount</th>\n",
       "      <th>ice_measure</th>\n",
       "      <th>friction</th>\n",
       "      <th>ice_frequency</th>\n",
       "      <th>mean_temperature</th>\n",
       "    </tr>\n",
       "  </thead>\n",
       "  <tbody>\n",
       "    <tr>\n",
       "      <th>count</th>\n",
       "      <td>2127.000000</td>\n",
       "      <td>2127.000000</td>\n",
       "      <td>2127.000000</td>\n",
       "      <td>2127.000000</td>\n",
       "      <td>2127.000000</td>\n",
       "      <td>2127.000000</td>\n",
       "      <td>2127.000000</td>\n",
       "      <td>2127.000000</td>\n",
       "      <td>2127.000000</td>\n",
       "      <td>2127.000000</td>\n",
       "      <td>2127.000000</td>\n",
       "      <td>2127.000000</td>\n",
       "    </tr>\n",
       "    <tr>\n",
       "      <th>mean</th>\n",
       "      <td>-3.827511</td>\n",
       "      <td>2.701996</td>\n",
       "      <td>75.707211</td>\n",
       "      <td>1.338677</td>\n",
       "      <td>1.368655</td>\n",
       "      <td>1.484989</td>\n",
       "      <td>0.112600</td>\n",
       "      <td>0.063836</td>\n",
       "      <td>0.053263</td>\n",
       "      <td>0.717029</td>\n",
       "      <td>239.675504</td>\n",
       "      <td>1.511737</td>\n",
       "    </tr>\n",
       "    <tr>\n",
       "      <th>std</th>\n",
       "      <td>7.744731</td>\n",
       "      <td>1.862333</td>\n",
       "      <td>21.738799</td>\n",
       "      <td>1.862569</td>\n",
       "      <td>2.285105</td>\n",
       "      <td>3.815704</td>\n",
       "      <td>0.327113</td>\n",
       "      <td>0.164342</td>\n",
       "      <td>0.128028</td>\n",
       "      <td>0.169249</td>\n",
       "      <td>159.839091</td>\n",
       "      <td>17.983132</td>\n",
       "    </tr>\n",
       "    <tr>\n",
       "      <th>min</th>\n",
       "      <td>-28.300000</td>\n",
       "      <td>0.100000</td>\n",
       "      <td>24.000000</td>\n",
       "      <td>0.000000</td>\n",
       "      <td>0.000000</td>\n",
       "      <td>0.000000</td>\n",
       "      <td>0.000000</td>\n",
       "      <td>0.000000</td>\n",
       "      <td>0.000000</td>\n",
       "      <td>0.100000</td>\n",
       "      <td>12.000000</td>\n",
       "      <td>-126.000000</td>\n",
       "    </tr>\n",
       "    <tr>\n",
       "      <th>25%</th>\n",
       "      <td>-8.800000</td>\n",
       "      <td>1.200000</td>\n",
       "      <td>60.000000</td>\n",
       "      <td>0.000000</td>\n",
       "      <td>0.000000</td>\n",
       "      <td>0.000000</td>\n",
       "      <td>0.000000</td>\n",
       "      <td>0.000000</td>\n",
       "      <td>0.000000</td>\n",
       "      <td>0.690000</td>\n",
       "      <td>112.000000</td>\n",
       "      <td>-2.482558</td>\n",
       "    </tr>\n",
       "    <tr>\n",
       "      <th>50%</th>\n",
       "      <td>-3.200000</td>\n",
       "      <td>2.400000</td>\n",
       "      <td>81.000000</td>\n",
       "      <td>0.000000</td>\n",
       "      <td>0.200000</td>\n",
       "      <td>0.000000</td>\n",
       "      <td>0.000000</td>\n",
       "      <td>0.000000</td>\n",
       "      <td>0.000000</td>\n",
       "      <td>0.810000</td>\n",
       "      <td>115.000000</td>\n",
       "      <td>0.100000</td>\n",
       "    </tr>\n",
       "    <tr>\n",
       "      <th>75%</th>\n",
       "      <td>3.150000</td>\n",
       "      <td>3.800000</td>\n",
       "      <td>95.000000</td>\n",
       "      <td>4.000000</td>\n",
       "      <td>1.900000</td>\n",
       "      <td>1.000000</td>\n",
       "      <td>0.150000</td>\n",
       "      <td>0.022316</td>\n",
       "      <td>0.020000</td>\n",
       "      <td>0.820000</td>\n",
       "      <td>410.000000</td>\n",
       "      <td>7.844952</td>\n",
       "    </tr>\n",
       "    <tr>\n",
       "      <th>max</th>\n",
       "      <td>9.000000</td>\n",
       "      <td>14.800000</td>\n",
       "      <td>100.000000</td>\n",
       "      <td>6.000000</td>\n",
       "      <td>17.200000</td>\n",
       "      <td>42.000000</td>\n",
       "      <td>11.420000</td>\n",
       "      <td>1.740000</td>\n",
       "      <td>1.235675</td>\n",
       "      <td>0.820000</td>\n",
       "      <td>648.000000</td>\n",
       "      <td>121.000000</td>\n",
       "    </tr>\n",
       "  </tbody>\n",
       "</table>\n",
       "</div>"
      ],
      "text/plain": [
       "         dew_point     avg_wind     humidity         rain     rain_sum  \\\n",
       "count  2127.000000  2127.000000  2127.000000  2127.000000  2127.000000   \n",
       "mean     -3.827511     2.701996    75.707211     1.338677     1.368655   \n",
       "std       7.744731     1.862333    21.738799     1.862569     2.285105   \n",
       "min     -28.300000     0.100000    24.000000     0.000000     0.000000   \n",
       "25%      -8.800000     1.200000    60.000000     0.000000     0.000000   \n",
       "50%      -3.200000     2.400000    81.000000     0.000000     0.200000   \n",
       "75%       3.150000     3.800000    95.000000     4.000000     1.900000   \n",
       "max       9.000000    14.800000   100.000000     6.000000    17.200000   \n",
       "\n",
       "        snow_depth  rain_amount  snow_amount  ice_measure     friction  \\\n",
       "count  2127.000000  2127.000000  2127.000000  2127.000000  2127.000000   \n",
       "mean      1.484989     0.112600     0.063836     0.053263     0.717029   \n",
       "std       3.815704     0.327113     0.164342     0.128028     0.169249   \n",
       "min       0.000000     0.000000     0.000000     0.000000     0.100000   \n",
       "25%       0.000000     0.000000     0.000000     0.000000     0.690000   \n",
       "50%       0.000000     0.000000     0.000000     0.000000     0.810000   \n",
       "75%       1.000000     0.150000     0.022316     0.020000     0.820000   \n",
       "max      42.000000    11.420000     1.740000     1.235675     0.820000   \n",
       "\n",
       "       ice_frequency  mean_temperature  \n",
       "count    2127.000000       2127.000000  \n",
       "mean      239.675504          1.511737  \n",
       "std       159.839091         17.983132  \n",
       "min        12.000000       -126.000000  \n",
       "25%       112.000000         -2.482558  \n",
       "50%       115.000000          0.100000  \n",
       "75%       410.000000          7.844952  \n",
       "max       648.000000        121.000000  "
      ]
     },
     "execution_count": 96,
     "metadata": {},
     "output_type": "execute_result"
    }
   ],
   "source": [
    "df.describe()"
   ]
  },
  {
   "cell_type": "code",
   "execution_count": 97,
   "metadata": {},
   "outputs": [
    {
     "data": {
      "text/plain": [
       "Normal    600\n",
       "Rain      600\n",
       "Snow      512\n",
       "Ice       415\n",
       "Name: condition, dtype: int64"
      ]
     },
     "execution_count": 97,
     "metadata": {},
     "output_type": "execute_result"
    }
   ],
   "source": [
    "# our dataset is not quite balanced regarding target variable\n",
    "# this will probably cause some problems with the logistic regression\n",
    "df['condition'].value_counts()"
   ]
  },
  {
   "cell_type": "code",
   "execution_count": 98,
   "metadata": {},
   "outputs": [
    {
     "data": {
      "text/plain": [
       "36"
      ]
     },
     "execution_count": 98,
     "metadata": {},
     "output_type": "execute_result"
    }
   ],
   "source": [
    "# check for duplicates\n",
    "df.duplicated().sum()\n"
   ]
  },
  {
   "cell_type": "code",
   "execution_count": 99,
   "metadata": {},
   "outputs": [],
   "source": [
    "df = df.drop_duplicates()"
   ]
  },
  {
   "cell_type": "code",
   "execution_count": 100,
   "metadata": {},
   "outputs": [
    {
     "data": {
      "text/plain": [
       "dew_point           0\n",
       "avg_wind            0\n",
       "humidity            0\n",
       "rain                0\n",
       "rain_sum            0\n",
       "snow_depth          0\n",
       "rain_amount         0\n",
       "snow_amount         0\n",
       "ice_measure         0\n",
       "friction            0\n",
       "ice_frequency       0\n",
       "mean_temperature    0\n",
       "condition           0\n",
       "dtype: int64"
      ]
     },
     "execution_count": 100,
     "metadata": {},
     "output_type": "execute_result"
    }
   ],
   "source": [
    "# check for missing values\n",
    "df.isna().sum()"
   ]
  },
  {
   "cell_type": "markdown",
   "metadata": {},
   "source": [
    "<b>Convert data to X/y and scale the values</b>"
   ]
  },
  {
   "cell_type": "code",
   "execution_count": 101,
   "metadata": {},
   "outputs": [],
   "source": [
    "# Initialize LabelEncoder\n",
    "label_encoder = LabelEncoder()\n",
    "\n",
    "# Fit and transform the weather_condition column\n",
    "df['condition'] = label_encoder.fit_transform(df['condition'])"
   ]
  },
  {
   "cell_type": "code",
   "execution_count": 102,
   "metadata": {},
   "outputs": [],
   "source": [
    "# a common trick in X/y -split\n",
    "# X = everything else in the DataFrame minus the target variable\n",
    "# y = only the target variable\n",
    "X = df.drop('condition', axis=1)\n",
    "y = df['condition']"
   ]
  },
  {
   "cell_type": "code",
   "execution_count": 103,
   "metadata": {},
   "outputs": [],
   "source": [
    "# split the data into train/test split\n",
    "X_train, X_test, y_train, y_test = train_test_split(X, y, test_size=0.30)"
   ]
  },
  {
   "cell_type": "markdown",
   "metadata": {},
   "source": [
    "<b>Create the logistic regression and fit the data</b>"
   ]
  },
  {
   "cell_type": "code",
   "execution_count": 104,
   "metadata": {},
   "outputs": [
    {
     "data": {
      "text/html": [
       "<style>#sk-container-id-4 {color: black;background-color: white;}#sk-container-id-4 pre{padding: 0;}#sk-container-id-4 div.sk-toggleable {background-color: white;}#sk-container-id-4 label.sk-toggleable__label {cursor: pointer;display: block;width: 100%;margin-bottom: 0;padding: 0.3em;box-sizing: border-box;text-align: center;}#sk-container-id-4 label.sk-toggleable__label-arrow:before {content: \"▸\";float: left;margin-right: 0.25em;color: #696969;}#sk-container-id-4 label.sk-toggleable__label-arrow:hover:before {color: black;}#sk-container-id-4 div.sk-estimator:hover label.sk-toggleable__label-arrow:before {color: black;}#sk-container-id-4 div.sk-toggleable__content {max-height: 0;max-width: 0;overflow: hidden;text-align: left;background-color: #f0f8ff;}#sk-container-id-4 div.sk-toggleable__content pre {margin: 0.2em;color: black;border-radius: 0.25em;background-color: #f0f8ff;}#sk-container-id-4 input.sk-toggleable__control:checked~div.sk-toggleable__content {max-height: 200px;max-width: 100%;overflow: auto;}#sk-container-id-4 input.sk-toggleable__control:checked~label.sk-toggleable__label-arrow:before {content: \"▾\";}#sk-container-id-4 div.sk-estimator input.sk-toggleable__control:checked~label.sk-toggleable__label {background-color: #d4ebff;}#sk-container-id-4 div.sk-label input.sk-toggleable__control:checked~label.sk-toggleable__label {background-color: #d4ebff;}#sk-container-id-4 input.sk-hidden--visually {border: 0;clip: rect(1px 1px 1px 1px);clip: rect(1px, 1px, 1px, 1px);height: 1px;margin: -1px;overflow: hidden;padding: 0;position: absolute;width: 1px;}#sk-container-id-4 div.sk-estimator {font-family: monospace;background-color: #f0f8ff;border: 1px dotted black;border-radius: 0.25em;box-sizing: border-box;margin-bottom: 0.5em;}#sk-container-id-4 div.sk-estimator:hover {background-color: #d4ebff;}#sk-container-id-4 div.sk-parallel-item::after {content: \"\";width: 100%;border-bottom: 1px solid gray;flex-grow: 1;}#sk-container-id-4 div.sk-label:hover label.sk-toggleable__label {background-color: #d4ebff;}#sk-container-id-4 div.sk-serial::before {content: \"\";position: absolute;border-left: 1px solid gray;box-sizing: border-box;top: 0;bottom: 0;left: 50%;z-index: 0;}#sk-container-id-4 div.sk-serial {display: flex;flex-direction: column;align-items: center;background-color: white;padding-right: 0.2em;padding-left: 0.2em;position: relative;}#sk-container-id-4 div.sk-item {position: relative;z-index: 1;}#sk-container-id-4 div.sk-parallel {display: flex;align-items: stretch;justify-content: center;background-color: white;position: relative;}#sk-container-id-4 div.sk-item::before, #sk-container-id-4 div.sk-parallel-item::before {content: \"\";position: absolute;border-left: 1px solid gray;box-sizing: border-box;top: 0;bottom: 0;left: 50%;z-index: -1;}#sk-container-id-4 div.sk-parallel-item {display: flex;flex-direction: column;z-index: 1;position: relative;background-color: white;}#sk-container-id-4 div.sk-parallel-item:first-child::after {align-self: flex-end;width: 50%;}#sk-container-id-4 div.sk-parallel-item:last-child::after {align-self: flex-start;width: 50%;}#sk-container-id-4 div.sk-parallel-item:only-child::after {width: 0;}#sk-container-id-4 div.sk-dashed-wrapped {border: 1px dashed gray;margin: 0 0.4em 0.5em 0.4em;box-sizing: border-box;padding-bottom: 0.4em;background-color: white;}#sk-container-id-4 div.sk-label label {font-family: monospace;font-weight: bold;display: inline-block;line-height: 1.2em;}#sk-container-id-4 div.sk-label-container {text-align: center;}#sk-container-id-4 div.sk-container {/* jupyter's `normalize.less` sets `[hidden] { display: none; }` but bootstrap.min.css set `[hidden] { display: none !important; }` so we also need the `!important` here to be able to override the default hidden behavior on the sphinx rendered scikit-learn.org. See: https://github.com/scikit-learn/scikit-learn/issues/21755 */display: inline-block !important;position: relative;}#sk-container-id-4 div.sk-text-repr-fallback {display: none;}</style><div id=\"sk-container-id-4\" class=\"sk-top-container\"><div class=\"sk-text-repr-fallback\"><pre>Pipeline(steps=[(&#x27;standardscaler&#x27;, StandardScaler()),\n",
       "                (&#x27;svc&#x27;, SVC(probability=True))])</pre><b>In a Jupyter environment, please rerun this cell to show the HTML representation or trust the notebook. <br />On GitHub, the HTML representation is unable to render, please try loading this page with nbviewer.org.</b></div><div class=\"sk-container\" hidden><div class=\"sk-item sk-dashed-wrapped\"><div class=\"sk-label-container\"><div class=\"sk-label sk-toggleable\"><input class=\"sk-toggleable__control sk-hidden--visually\" id=\"sk-estimator-id-8\" type=\"checkbox\" ><label for=\"sk-estimator-id-8\" class=\"sk-toggleable__label sk-toggleable__label-arrow\">Pipeline</label><div class=\"sk-toggleable__content\"><pre>Pipeline(steps=[(&#x27;standardscaler&#x27;, StandardScaler()),\n",
       "                (&#x27;svc&#x27;, SVC(probability=True))])</pre></div></div></div><div class=\"sk-serial\"><div class=\"sk-item\"><div class=\"sk-estimator sk-toggleable\"><input class=\"sk-toggleable__control sk-hidden--visually\" id=\"sk-estimator-id-9\" type=\"checkbox\" ><label for=\"sk-estimator-id-9\" class=\"sk-toggleable__label sk-toggleable__label-arrow\">StandardScaler</label><div class=\"sk-toggleable__content\"><pre>StandardScaler()</pre></div></div></div><div class=\"sk-item\"><div class=\"sk-estimator sk-toggleable\"><input class=\"sk-toggleable__control sk-hidden--visually\" id=\"sk-estimator-id-10\" type=\"checkbox\" ><label for=\"sk-estimator-id-10\" class=\"sk-toggleable__label sk-toggleable__label-arrow\">SVC</label><div class=\"sk-toggleable__content\"><pre>SVC(probability=True)</pre></div></div></div></div></div></div></div>"
      ],
      "text/plain": [
       "Pipeline(steps=[('standardscaler', StandardScaler()),\n",
       "                ('svc', SVC(probability=True))])"
      ]
     },
     "execution_count": 104,
     "metadata": {},
     "output_type": "execute_result"
    }
   ],
   "source": [
    "# RANDOM FOREST\n",
    "# during lectures, we got a 96% accuracy once with these parameters\n",
    "# model = make_pipeline(StandardScaler(), RandomForestClassifier(criterion=\"entropy\", class_weight=\"balanced\", ccp_alpha=0.05))\n",
    "#model = make_pipeline(StandardScaler(), RandomForestClassifier())\n",
    "#model.fit(X_train, y_train)\n",
    "# Model overall accuracy: 92.52%\n",
    "\n",
    "\n",
    "###########################\n",
    "\n",
    "# DECISION TREE\n",
    "#model = DecisionTreeClassifier(criterion='entropy', random_state=0)\n",
    "#model.fit(X_train, y_train)\n",
    "#Model overall accuracy: 88.22\n",
    "\n",
    "\n",
    "#########################\n",
    "\n",
    "# KNN\n",
    "\n",
    "# CLASSIFIER VERSION\n",
    "# adjust this to 50 or even 150 if you have lots of data rows\n",
    "# this has to always be less than the amount of rows\n",
    "# in the training data\n",
    "#max_iterations = 50\n",
    "\n",
    "# list to save the error values in the loop\n",
    "#error = []\n",
    "\n",
    "# the default metric in scikit-learn\n",
    "#metric_selection = \"minkowski\"\n",
    "\n",
    "# Calculating error for K values between 1 and 40\n",
    "#for i in range(1, max_iterations):\n",
    "\n",
    "     # try with current k-value, train the model and make a test prediction\n",
    "#    knn = make_pipeline(StandardScaler(), KNeighborsClassifier(n_neighbors=i, metric=metric_selection))\n",
    "#    knn.fit(X_train, y_train)\n",
    "#    pred_i = knn.predict(X_test)\n",
    "\n",
    "    # save the error value for this k-value\n",
    "#    error.append(np.mean(pred_i != y_test))\n",
    "    \n",
    "# plot all the k-values and their error values\n",
    "#sns.lineplot(x=range(1, max_iterations), y=error, marker='o')\n",
    "#plt.title('Error Rate K Value (choose k-value of lowest Mean Error)')\n",
    "#plt.xlabel('K Value')\n",
    "#plt.ylabel('Mean Error')\n",
    "\n",
    "# choose best k-value based on metrics\n",
    "# we have to add +1 to k-value, since argmin() returns an index\n",
    "# which starts from 0, but k-values start from 1\n",
    "#print(\"Based on iterations, best k-value is this:\")\n",
    "#k_value = np.argmin(error) + 1\n",
    "#print(k_value)\n",
    "\n",
    "# build the model with the optimal values\n",
    "#model = make_pipeline(StandardScaler(), KNeighborsClassifier(n_neighbors=k_value, metric=\"minkowski\"))\n",
    "#model.fit(X_train, y_train)\n",
    "#Model overall accuracy: 86.15%\n",
    "\n",
    "#model = make_pipeline(StandardScaler(), svm.SVC(probability=True))\n",
    "#model.fit(X_train, y_train)\n",
    "# Model overall accuracy: 90.45%"
   ]
  },
  {
   "cell_type": "markdown",
   "metadata": {},
   "source": [
    "<b>Classification error metrics</b>"
   ]
  },
  {
   "cell_type": "code",
   "execution_count": 105,
   "metadata": {},
   "outputs": [],
   "source": [
    "predictions = model.predict(X_test)"
   ]
  },
  {
   "cell_type": "code",
   "execution_count": 106,
   "metadata": {},
   "outputs": [
    {
     "name": "stdout",
     "output_type": "stream",
     "text": [
      "              precision    recall  f1-score   support\n",
      "\n",
      "           0       0.92      0.91      0.92       121\n",
      "           1       0.88      0.90      0.89       165\n",
      "           2       0.91      0.85      0.88       178\n",
      "           3       0.91      0.97      0.94       164\n",
      "\n",
      "    accuracy                           0.90       628\n",
      "   macro avg       0.91      0.91      0.91       628\n",
      "weighted avg       0.90      0.90      0.90       628\n",
      "\n",
      "\n",
      "Model overall accuracy: 90.45%\n"
     ]
    }
   ],
   "source": [
    "# print the classification report based on true values and predictions\n",
    "print(classification_report(y_test, predictions))\n",
    "\n",
    "# get overall accuracy of the model and print it\n",
    "acc = accuracy_score(y_test, predictions)\n",
    "print(\"\\nModel overall accuracy: {:.2f}%\".format(acc * 100))"
   ]
  },
  {
   "cell_type": "code",
   "execution_count": 107,
   "metadata": {},
   "outputs": [
    {
     "data": {
      "text/plain": [
       "<Axes: >"
      ]
     },
     "execution_count": 107,
     "metadata": {},
     "output_type": "execute_result"
    },
    {
     "data": {
      "image/png": "[encoded data removed]",
      "text/plain": [
       "<Figure size 640x480 with 2 Axes>"
      ]
     },
     "metadata": {},
     "output_type": "display_data"
    }
   ],
   "source": [
    "#print(confusion_matrix(y_test, predictions))\n",
    "\n",
    "# if you want a more graphical version of this, try:\n",
    "labels = np.unique(df['condition'])\n",
    "sns.heatmap(confusion_matrix(y_test, predictions), annot=True, fmt='g', xticklabels=labels, yticklabels=labels)"
   ]
  },
  {
   "cell_type": "code",
   "execution_count": 108,
   "metadata": {},
   "outputs": [
    {
     "data": {
      "text/plain": [
       "0.9804056253310158"
      ]
     },
     "execution_count": 108,
     "metadata": {},
     "output_type": "execute_result"
    }
   ],
   "source": [
    "# The AUC score is a super sensitive metric\n",
    "# you often get low scores, even 0.5\n",
    "\n",
    "# in binary logistic regression, AUC values are often interpreted as follows:\n",
    "# A binary classifier is useful only when it achieves ROC-AUC score greater than 0.5 and as near to 1 as possible. \n",
    "# If a classifier yields a score less than 0.5, it simply means that the model is performing worse \n",
    "# than a random classifier, and therefore is useless.\n",
    "\n",
    "# In multinomial logistic regression , AUC values are often interpreted as follows: \n",
    "# 0.5-0.6 (failed)\n",
    "# 0.6-0.7 (worthless)\n",
    "# 0.7-0.8 (poor)\n",
    "# 0.8-0.9 (good)\n",
    "# > 0.9 (excellent)\n",
    "\n",
    "# basically 0.5 means you could get the same result with just random guessing\n",
    "#roc_auc_score(y_test.values, model.predict(X_test)[:, 1], multi_class=\"ovr\")\n",
    "roc_auc_score(y_test, model.predict_proba(X_test), multi_class='ovr')"
   ]
  },
  {
   "cell_type": "markdown",
   "metadata": {},
   "source": [
    "<b>Test with some new data</b>"
   ]
  },
  {
   "cell_type": "code",
   "execution_count": 109,
   "metadata": {},
   "outputs": [
    {
     "data": {
      "text/plain": [
       "Index(['dew_point', 'avg_wind', 'humidity', 'rain', 'rain_sum', 'snow_depth',\n",
       "       'rain_amount', 'snow_amount', 'ice_measure', 'friction',\n",
       "       'ice_frequency', 'mean_temperature', 'condition'],\n",
       "      dtype='object')"
      ]
     },
     "execution_count": 109,
     "metadata": {},
     "output_type": "execute_result"
    }
   ],
   "source": [
    "df.columns"
   ]
  },
  {
   "cell_type": "code",
   "execution_count": 110,
   "metadata": {},
   "outputs": [
    {
     "data": {
      "text/plain": [
       "dew_point           -12.70\n",
       "avg_wind              5.50\n",
       "humidity             47.00\n",
       "rain                  0.00\n",
       "rain_sum              0.00\n",
       "snow_depth            0.00\n",
       "rain_amount           0.00\n",
       "snow_amount           0.00\n",
       "ice_measure           0.00\n",
       "friction              0.82\n",
       "ice_frequency       487.00\n",
       "mean_temperature      7.00\n",
       "condition             1.00\n",
       "Name: 0, dtype: float64"
      ]
     },
     "execution_count": 110,
     "metadata": {},
     "output_type": "execute_result"
    }
   ],
   "source": [
    "df.iloc[0]"
   ]
  },
  {
   "cell_type": "code",
   "execution_count": 111,
   "metadata": {},
   "outputs": [
    {
     "name": "stdout",
     "output_type": "stream",
     "text": [
      "All probabilities by category:\n",
      "[0 1 2 3]\n",
      "[[0.01063851 0.91952286 0.06413513 0.00570351]]\n",
      "\n",
      "Current weather:\n",
      "1\n",
      "-------------------\n"
     ]
    }
   ],
   "source": [
    "# let's try a new value\n",
    "tester_row = {\n",
    "    'dew_point': -12.7, \n",
    "    'avg_wind': 5.5, \n",
    "    'humidity': 47.0, \n",
    "    'rain': 0, \n",
    "    'rain_sum': 0, \n",
    "    'snow_depth': 0,\n",
    "    'rain_amount': 0, \n",
    "    'snow_amount': 0, \n",
    "    'ice_measure': 0,\n",
    "    'friction': 0.82,\n",
    "    'ice_frequency': 487.0,\n",
    "    'mean_temperature': 7\n",
    "}\n",
    "\n",
    "# create a pandas DataFrame\n",
    "tester_row = pd.DataFrame([tester_row])\n",
    "\n",
    "# probabilities\n",
    "print(\"All probabilities by category:\")\n",
    "print(labels)\n",
    "print(model.predict_proba(tester_row))\n",
    "print()\n",
    "\n",
    "\n",
    "print(\"Current weather:\")\n",
    "result = model.predict(tester_row)[0]\n",
    "print(result)\n",
    "print(\"-------------------\")"
   ]
  },
  {
   "cell_type": "code",
   "execution_count": null,
   "metadata": {},
   "outputs": [],
   "source": []
  }
 ],
 "metadata": {
  "kernelspec": {
   "display_name": "Python 3 (ipykernel)",
   "language": "python",
   "name": "python3"
  },
  "language_info": {
   "codemirror_mode": {
    "name": "ipython",
    "version": 3
   },
   "file_extension": ".py",
   "mimetype": "text/x-python",
   "name": "python",
   "nbconvert_exporter": "python",
   "pygments_lexer": "ipython3",
   "version": "3.10.9"
  }
 },
 "nbformat": 4,
 "nbformat_minor": 4
}
